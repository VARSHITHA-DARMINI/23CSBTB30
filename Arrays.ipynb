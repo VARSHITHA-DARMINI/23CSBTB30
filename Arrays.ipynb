{
  "nbformat": 4,
  "nbformat_minor": 0,
  "metadata": {
    "colab": {
      "provenance": [],
      "authorship_tag": "ABX9TyP+/3o98d2AjbPpti3woynN",
      "include_colab_link": true
    },
    "kernelspec": {
      "name": "python3",
      "display_name": "Python 3"
    },
    "language_info": {
      "name": "python"
    }
  },
  "cells": [
    {
      "cell_type": "markdown",
      "metadata": {
        "id": "view-in-github",
        "colab_type": "text"
      },
      "source": [
        "<a href=\"https://colab.research.google.com/github/VARSHITHA-DARMINI/23CSBTB30/blob/main/Arrays.ipynb\" target=\"_parent\"><img src=\"https://colab.research.google.com/assets/colab-badge.svg\" alt=\"Open In Colab\"/></a>"
      ]
    },
    {
      "cell_type": "code",
      "execution_count": 1,
      "metadata": {
        "colab": {
          "base_uri": "https://localhost:8080/"
        },
        "id": "jj7qiJeVyBzK",
        "outputId": "d005e6b3-0e2d-45fb-aa5e-381348092d9e"
      },
      "outputs": [
        {
          "output_type": "stream",
          "name": "stdout",
          "text": [
            "[3 4 5 6]\n",
            "<class 'numpy.ndarray'>\n"
          ]
        }
      ],
      "source": [
        "import numpy as np\n",
        "arr1=np.array([3,4,5,6])\n",
        "print(arr1)\n",
        "print(type(arr1))"
      ]
    },
    {
      "cell_type": "markdown",
      "source": [
        "\n"
      ],
      "metadata": {
        "id": "SaC55SYf0JDu"
      }
    },
    {
      "cell_type": "code",
      "source": [
        "arr2=np.zeros((2,3))\n",
        "print(arr2)\n",
        "print(type(arr2))\n"
      ],
      "metadata": {
        "colab": {
          "base_uri": "https://localhost:8080/"
        },
        "id": "VekoiheM1ecb",
        "outputId": "9b87e59f-0915-4925-e852-adcead9b77fa"
      },
      "execution_count": 2,
      "outputs": [
        {
          "output_type": "stream",
          "name": "stdout",
          "text": [
            "[[0. 0. 0.]\n",
            " [0. 0. 0.]]\n",
            "<class 'numpy.ndarray'>\n"
          ]
        }
      ]
    },
    {
      "cell_type": "code",
      "source": [
        "arr3=np.array([[1,2,3],[5,6,7],[3,6,7]])\n",
        "print(arr3)\n",
        "print(type(arr3))"
      ],
      "metadata": {
        "colab": {
          "base_uri": "https://localhost:8080/"
        },
        "id": "ZUdoIavI42jb",
        "outputId": "52afff07-a1ae-4696-e53d-940c747c53d3"
      },
      "execution_count": 3,
      "outputs": [
        {
          "output_type": "stream",
          "name": "stdout",
          "text": [
            "[[1 2 3]\n",
            " [5 6 7]\n",
            " [3 6 7]]\n",
            "<class 'numpy.ndarray'>\n"
          ]
        }
      ]
    },
    {
      "cell_type": "code",
      "source": [
        "arr4=np.array([[1, 2], [3, 4]])\n",
        "print(arr4)\n",
        "print(type(arr4))"
      ],
      "metadata": {
        "colab": {
          "base_uri": "https://localhost:8080/"
        },
        "id": "DcbmHqqS6K0J",
        "outputId": "107566e3-2bcb-48d0-defa-6de43f9c550e"
      },
      "execution_count": 4,
      "outputs": [
        {
          "output_type": "stream",
          "name": "stdout",
          "text": [
            "[[1 2]\n",
            " [3 4]]\n",
            "<class 'numpy.ndarray'>\n"
          ]
        }
      ]
    },
    {
      "cell_type": "code",
      "source": [
        "dtype = [('name', 'S10'), ('age', 'i4')]\n",
        "values = [('Alice', 25), ('Bob', 30)]\n",
        "arr5 = np.array(values, dtype=dtype)\n",
        "print(arr5)\n",
        "print(type(arr5))"
      ],
      "metadata": {
        "colab": {
          "base_uri": "https://localhost:8080/"
        },
        "id": "_BrZy-If6Rnw",
        "outputId": "6b792c4c-0e97-4a82-d0a2-1d5377c14498"
      },
      "execution_count": 5,
      "outputs": [
        {
          "output_type": "stream",
          "name": "stdout",
          "text": [
            "[(b'Alice', 25) (b'Bob', 30)]\n",
            "<class 'numpy.ndarray'>\n"
          ]
        }
      ]
    },
    {
      "cell_type": "code",
      "source": [
        "arr6 = np.matrix([[1, 2], [3, 4]])\n",
        "print(arr6)\n",
        "print(type(arr6))"
      ],
      "metadata": {
        "colab": {
          "base_uri": "https://localhost:8080/"
        },
        "id": "300G2MnO6_MP",
        "outputId": "a355b56c-edf9-43a7-ecb4-e4e51451d86a"
      },
      "execution_count": 6,
      "outputs": [
        {
          "output_type": "stream",
          "name": "stdout",
          "text": [
            "[[1 2]\n",
            " [3 4]]\n",
            "<class 'numpy.matrix'>\n"
          ]
        }
      ]
    },
    {
      "cell_type": "code",
      "source": [
        "import numpy as np\n",
        "array1 = np.array([1, 2, 3, 4])\n",
        "array2 = np.array([5, 6, 7, 8])\n",
        "result = array1 * array2\n",
        "print(\"Multiplication Result:\", result)\n"
      ],
      "metadata": {
        "colab": {
          "base_uri": "https://localhost:8080/"
        },
        "id": "PkKYjYks-ajB",
        "outputId": "25930e11-31ab-40d8-d574-c5a0b3c7682c"
      },
      "execution_count": 10,
      "outputs": [
        {
          "output_type": "stream",
          "name": "stdout",
          "text": [
            "Multiplication Result: [ 5 12 21 32]\n"
          ]
        }
      ]
    },
    {
      "cell_type": "code",
      "source": [
        "import numpy as np\n",
        "array1 = np.array([9, 7, 3, 4])\n",
        "array2 = np.array([5, 6, 7, 7])\n",
        "result = array1 / array2\n",
        "print(\"Division Result:\", result)"
      ],
      "metadata": {
        "colab": {
          "base_uri": "https://localhost:8080/"
        },
        "id": "VVmFzRbQ_z2t",
        "outputId": "f4ac2ee3-5884-43a4-ecf8-75a2d9a00ba7"
      },
      "execution_count": 11,
      "outputs": [
        {
          "output_type": "stream",
          "name": "stdout",
          "text": [
            "Division Result: [1.8        1.16666667 0.42857143 0.57142857]\n"
          ]
        }
      ]
    },
    {
      "cell_type": "code",
      "source": [
        "import numpy as np\n",
        "array1 = np.array([1, 2, 3, 4])\n",
        "array2 = np.array([5, 6, 7, 8])\n",
        "result = array1 ^array2\n",
        "print(\"Power Result:\", result)"
      ],
      "metadata": {
        "colab": {
          "base_uri": "https://localhost:8080/"
        },
        "id": "-nVp7FpuALpP",
        "outputId": "64eb5c90-2666-4bd1-de73-44f6b8fa09ee"
      },
      "execution_count": 12,
      "outputs": [
        {
          "output_type": "stream",
          "name": "stdout",
          "text": [
            "Power Result: [ 4  4  4 12]\n"
          ]
        }
      ]
    },
    {
      "cell_type": "code",
      "source": [
        " arr= f\"Addition of Two: {array1} + {array2} = {array1 + array2}\"\n",
        "print(\"\\n\" + arr)"
      ],
      "metadata": {
        "colab": {
          "base_uri": "https://localhost:8080/"
        },
        "id": "-eFLuhyWATtv",
        "outputId": "766deeb5-8b69-4411-f5fa-5c902a250344"
      },
      "execution_count": 13,
      "outputs": [
        {
          "output_type": "stream",
          "name": "stdout",
          "text": [
            "\n",
            "Addition of Two: [1 2 3 4] + [5 6 7 8] = [ 6  8 10 12]\n"
          ]
        }
      ]
    },
    {
      "cell_type": "code",
      "source": [
        "\n",
        "sin = np.sin(array1)\n",
        "log = np.log(array1 + 1)  # Adding 1 to avoid log(0)\n",
        "log2 = np.log2(array1 + 1)\n",
        "exp = np.exp(array1)\n",
        "\n",
        "print( sin)\n",
        "print(log)\n",
        "print(log2)\n",
        "print(expr)\n"
      ],
      "metadata": {
        "colab": {
          "base_uri": "https://localhost:8080/",
          "height": 228
        },
        "id": "iCC7crcMBMsj",
        "outputId": "22e04f25-bac1-48e5-ef29-d312c083443a"
      },
      "execution_count": 14,
      "outputs": [
        {
          "output_type": "stream",
          "name": "stdout",
          "text": [
            "[ 0.84147098  0.90929743  0.14112001 -0.7568025 ]\n",
            "[0.69314718 1.09861229 1.38629436 1.60943791]\n",
            "[1.         1.5849625  2.         2.32192809]\n"
          ]
        },
        {
          "output_type": "error",
          "ename": "NameError",
          "evalue": "name 'expr' is not defined",
          "traceback": [
            "\u001b[0;31m---------------------------------------------------------------------------\u001b[0m",
            "\u001b[0;31mNameError\u001b[0m                                 Traceback (most recent call last)",
            "\u001b[0;32m<ipython-input-14-c3024b3f976f>\u001b[0m in \u001b[0;36m<cell line: 9>\u001b[0;34m()\u001b[0m\n\u001b[1;32m      7\u001b[0m \u001b[0mprint\u001b[0m\u001b[0;34m(\u001b[0m\u001b[0mlog\u001b[0m\u001b[0;34m)\u001b[0m\u001b[0;34m\u001b[0m\u001b[0;34m\u001b[0m\u001b[0m\n\u001b[1;32m      8\u001b[0m \u001b[0mprint\u001b[0m\u001b[0;34m(\u001b[0m\u001b[0mlog2\u001b[0m\u001b[0;34m)\u001b[0m\u001b[0;34m\u001b[0m\u001b[0;34m\u001b[0m\u001b[0m\n\u001b[0;32m----> 9\u001b[0;31m \u001b[0mprint\u001b[0m\u001b[0;34m(\u001b[0m\u001b[0mexpr\u001b[0m\u001b[0;34m)\u001b[0m\u001b[0;34m\u001b[0m\u001b[0;34m\u001b[0m\u001b[0m\n\u001b[0m",
            "\u001b[0;31mNameError\u001b[0m: name 'expr' is not defined"
          ]
        }
      ]
    }
  ]
}