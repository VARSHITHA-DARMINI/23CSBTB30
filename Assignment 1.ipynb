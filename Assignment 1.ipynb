{
  "nbformat": 4,
  "nbformat_minor": 0,
  "metadata": {
    "colab": {
      "provenance": [],
      "authorship_tag": "ABX9TyMxHHMZfyXND426rSh7TDwu",
      "include_colab_link": true
    },
    "kernelspec": {
      "name": "python3",
      "display_name": "Python 3"
    },
    "language_info": {
      "name": "python"
    }
  },
  "cells": [
    {
      "cell_type": "markdown",
      "metadata": {
        "id": "view-in-github",
        "colab_type": "text"
      },
      "source": [
        "<a href=\"https://colab.research.google.com/github/VARSHITHA-DARMINI/23CSBTB30/blob/main/Assignment%201.ipynb\" target=\"_parent\"><img src=\"https://colab.research.google.com/assets/colab-badge.svg\" alt=\"Open In Colab\"/></a>"
      ]
    },
    {
      "cell_type": "code",
      "execution_count": null,
      "metadata": {
        "id": "ScR1IrywusMn"
      },
      "outputs": [],
      "source": []
    },
    {
      "cell_type": "code",
      "source": [],
      "metadata": {
        "id": "iyBbx86esQwd"
      },
      "execution_count": null,
      "outputs": []
    },
    {
      "cell_type": "markdown",
      "source": [
        "### Implement basic Datastructures using Numpy and Pandas"
      ],
      "metadata": {
        "id": "7gymWvcHutAi"
      }
    },
    {
      "cell_type": "code",
      "source": [
        "lst1=(2,8,1,5,7)\n",
        "print(lst1)\n",
        "print(type(lst1))"
      ],
      "metadata": {
        "colab": {
          "base_uri": "https://localhost:8080/"
        },
        "id": "28ov06npu0N5",
        "outputId": "4897fc07-e661-46ac-8e93-1985431fcd43"
      },
      "execution_count": null,
      "outputs": [
        {
          "output_type": "stream",
          "name": "stdout",
          "text": [
            "(2, 8, 1, 5, 7)\n",
            "<class 'tuple'>\n"
          ]
        }
      ]
    },
    {
      "cell_type": "code",
      "source": [
        "lst2={3,8,9,2}\n",
        "print(lst2)\n",
        "print(type(lst2))"
      ],
      "metadata": {
        "colab": {
          "base_uri": "https://localhost:8080/"
        },
        "id": "9zmg7pd4vN6_",
        "outputId": "3d1e0daf-aa71-462b-e96e-ee62ef99a07e"
      },
      "execution_count": null,
      "outputs": [
        {
          "output_type": "stream",
          "name": "stdout",
          "text": [
            "{8, 9, 2, 3}\n",
            "<class 'set'>\n"
          ]
        }
      ]
    },
    {
      "cell_type": "code",
      "source": [
        "lst3=[5,0,2,8]\n",
        "print(lst3)\n",
        "print(type(lst3))"
      ],
      "metadata": {
        "colab": {
          "base_uri": "https://localhost:8080/"
        },
        "id": "9p-FKEVYvZjM",
        "outputId": "96d45157-3d3f-464d-d4b4-1907df43d52e"
      },
      "execution_count": null,
      "outputs": [
        {
          "output_type": "stream",
          "name": "stdout",
          "text": [
            "[5, 0, 2, 8]\n",
            "<class 'list'>\n"
          ]
        }
      ]
    },
    {
      "cell_type": "code",
      "source": [
        "lst4={1:\"Varshitha\",2:\"Anushka\",3:\"Rimbu\"}\n",
        "print(lst4)\n",
        "print(type(lst4))"
      ],
      "metadata": {
        "colab": {
          "base_uri": "https://localhost:8080/"
        },
        "id": "QOl8PysyvjC0",
        "outputId": "eb9e9f37-2536-4b06-d8a6-a736bc644cbd"
      },
      "execution_count": null,
      "outputs": [
        {
          "output_type": "stream",
          "name": "stdout",
          "text": [
            "{1: 'Varshitha', 2: 'Anushka', 3: 'Rimbu'}\n",
            "<class 'dict'>\n"
          ]
        }
      ]
    },
    {
      "cell_type": "code",
      "source": [
        "lst5=\"Welcome to AIML Lab\"\n",
        "print(lst5)\n",
        "print(type(lst5))\n"
      ],
      "metadata": {
        "colab": {
          "base_uri": "https://localhost:8080/"
        },
        "id": "W98Yxv-Gv6Qu",
        "outputId": "ff957946-41cc-4b98-c281-3bd4f3ce6358"
      },
      "execution_count": null,
      "outputs": [
        {
          "output_type": "stream",
          "name": "stdout",
          "text": [
            "Welcome to AIML Lab\n",
            "<class 'str'>\n"
          ]
        }
      ]
    },
    {
      "cell_type": "code",
      "source": [
        "lst6=24.89\n",
        "print(lst6)\n",
        "print(type(lst6))"
      ],
      "metadata": {
        "colab": {
          "base_uri": "https://localhost:8080/"
        },
        "id": "mDeOoaLpwLhi",
        "outputId": "1aa4b116-c8fc-478a-f282-c061f27c2d9a"
      },
      "execution_count": null,
      "outputs": [
        {
          "output_type": "stream",
          "name": "stdout",
          "text": [
            "24.89\n",
            "<class 'float'>\n"
          ]
        }
      ]
    },
    {
      "cell_type": "code",
      "source": [
        "lst7=2j+3\n",
        "print(lst7)\n",
        "print(type(lst7))"
      ],
      "metadata": {
        "colab": {
          "base_uri": "https://localhost:8080/"
        },
        "id": "irRJJe-lwfsb",
        "outputId": "d3805b4a-3035-4810-a44a-f4aef139ba8e"
      },
      "execution_count": null,
      "outputs": [
        {
          "output_type": "stream",
          "name": "stdout",
          "text": [
            "(3+2j)\n",
            "<class 'complex'>\n"
          ]
        }
      ]
    },
    {
      "cell_type": "code",
      "source": [
        "import numpy as np\n",
        "arr1=np.array([3,4,5,6])\n",
        "print(arr1)\n",
        "print(type(arr1))"
      ],
      "metadata": {
        "id": "UeZ5rKuUsS7N",
        "outputId": "2abe99ca-7b4f-4c96-cd3a-ebdbf2b6a1be",
        "colab": {
          "base_uri": "https://localhost:8080/"
        }
      },
      "execution_count": 1,
      "outputs": [
        {
          "output_type": "stream",
          "name": "stdout",
          "text": [
            "[3 4 5 6]\n",
            "<class 'numpy.ndarray'>\n"
          ]
        }
      ]
    },
    {
      "cell_type": "code",
      "source": [
        "arr2=np.zeros((2,3))\n",
        "print(arr2)\n",
        "print(type(arr2))\n"
      ],
      "metadata": {
        "id": "UR5AdUrRsbXc",
        "outputId": "a5444ac8-86c7-43de-dfde-d8ac8c231687",
        "colab": {
          "base_uri": "https://localhost:8080/"
        }
      },
      "execution_count": 2,
      "outputs": [
        {
          "output_type": "stream",
          "name": "stdout",
          "text": [
            "[[0. 0. 0.]\n",
            " [0. 0. 0.]]\n",
            "<class 'numpy.ndarray'>\n"
          ]
        }
      ]
    },
    {
      "cell_type": "code",
      "source": [
        "arr3=np.array([[1,2,3],[5,6,7],[3,6,7]])\n",
        "print(arr3)\n",
        "print(type(arr3))"
      ],
      "metadata": {
        "id": "XFEDXJu3s0od",
        "outputId": "c877a28a-d0cc-47ff-99d2-7f64ecd41b43",
        "colab": {
          "base_uri": "https://localhost:8080/"
        }
      },
      "execution_count": 3,
      "outputs": [
        {
          "output_type": "stream",
          "name": "stdout",
          "text": [
            "[[1 2 3]\n",
            " [5 6 7]\n",
            " [3 6 7]]\n",
            "<class 'numpy.ndarray'>\n"
          ]
        }
      ]
    },
    {
      "cell_type": "code",
      "source": [
        "arr4=np.array([[1, 2], [3, 4]])\n",
        "print(arr4)\n",
        "print(type(arr4))"
      ],
      "metadata": {
        "id": "rycrhqous51j",
        "outputId": "8b5e65f7-ded2-40c7-f77b-f8fede60cb0c",
        "colab": {
          "base_uri": "https://localhost:8080/"
        }
      },
      "execution_count": 4,
      "outputs": [
        {
          "output_type": "stream",
          "name": "stdout",
          "text": [
            "[[1 2]\n",
            " [3 4]]\n",
            "<class 'numpy.ndarray'>\n"
          ]
        }
      ]
    },
    {
      "cell_type": "code",
      "source": [
        "dtype = [('name', 'S10'), ('age', 'i4')]\n",
        "values = [('Alice', 25), ('Bob', 30)]\n",
        "arr5 = np.array(values, dtype=dtype)\n",
        "print(arr5)\n",
        "print(type(arr5))"
      ],
      "metadata": {
        "id": "0H4i7IVUs_JY",
        "outputId": "a7478684-a85e-493e-e24f-3d4850a68387",
        "colab": {
          "base_uri": "https://localhost:8080/"
        }
      },
      "execution_count": 5,
      "outputs": [
        {
          "output_type": "stream",
          "name": "stdout",
          "text": [
            "[(b'Alice', 25) (b'Bob', 30)]\n",
            "<class 'numpy.ndarray'>\n"
          ]
        }
      ]
    },
    {
      "cell_type": "code",
      "source": [
        "arr6 = np.matrix([[1, 2], [3, 4]])\n",
        "print(arr6)\n",
        "print(type(arr6))"
      ],
      "metadata": {
        "id": "olkTz1k1tCzl",
        "outputId": "d287289e-d6b7-42bd-8fae-a597498cd765",
        "colab": {
          "base_uri": "https://localhost:8080/"
        }
      },
      "execution_count": 6,
      "outputs": [
        {
          "output_type": "stream",
          "name": "stdout",
          "text": [
            "[[1 2]\n",
            " [3 4]]\n",
            "<class 'numpy.matrix'>\n"
          ]
        }
      ]
    },
    {
      "cell_type": "code",
      "source": [
        "import numpy as np\n",
        "array1 = np.array([1, 2, 3, 4])\n",
        "array2 = np.array([5, 6, 7, 8])\n",
        "result = array1 * array2\n",
        "print(\"Multiplication Result:\", result)\n"
      ],
      "metadata": {
        "id": "9liHL4ETtIX0",
        "outputId": "943ef4ce-ff2f-45c9-9f0c-c9bfb07c41f4",
        "colab": {
          "base_uri": "https://localhost:8080/"
        }
      },
      "execution_count": 7,
      "outputs": [
        {
          "output_type": "stream",
          "name": "stdout",
          "text": [
            "Multiplication Result: [ 5 12 21 32]\n"
          ]
        }
      ]
    },
    {
      "cell_type": "code",
      "source": [
        "import numpy as np\n",
        "array1 = np.array([9, 7, 3, 4])\n",
        "array2 = np.array([5, 6, 7, 7])\n",
        "result = array1 / array2\n",
        "print(\"Division Result:\", result)"
      ],
      "metadata": {
        "id": "1WNa4IfPtMHK",
        "outputId": "f5e7d661-b2c0-4efa-c834-daac85c964dd",
        "colab": {
          "base_uri": "https://localhost:8080/"
        }
      },
      "execution_count": 8,
      "outputs": [
        {
          "output_type": "stream",
          "name": "stdout",
          "text": [
            "Division Result: [1.8        1.16666667 0.42857143 0.57142857]\n"
          ]
        }
      ]
    },
    {
      "cell_type": "code",
      "source": [
        "import numpy as np\n",
        "array1 = np.array([1, 2, 3, 4])\n",
        "array2 = np.array([5, 6, 7, 8])\n",
        "result = array1 ^array2\n",
        "print(\"Power Result:\", result)"
      ],
      "metadata": {
        "id": "iSK_BMT2tUHP",
        "outputId": "68eba600-b8e3-4df9-a440-d3baad68cecd",
        "colab": {
          "base_uri": "https://localhost:8080/"
        }
      },
      "execution_count": 9,
      "outputs": [
        {
          "output_type": "stream",
          "name": "stdout",
          "text": [
            "Power Result: [ 4  4  4 12]\n"
          ]
        }
      ]
    },
    {
      "cell_type": "code",
      "source": [
        "arr= f\"Addition of Two: {array1} + {array2} = {array1 + array2}\"\n",
        "print(\"\\n\" + arr)"
      ],
      "metadata": {
        "id": "ojSn9GnmtfBG",
        "outputId": "769ab982-ec2c-4f41-8f28-56060d032cf6",
        "colab": {
          "base_uri": "https://localhost:8080/"
        }
      },
      "execution_count": 10,
      "outputs": [
        {
          "output_type": "stream",
          "name": "stdout",
          "text": [
            "\n",
            "Addition of Two: [1 2 3 4] + [5 6 7 8] = [ 6  8 10 12]\n"
          ]
        }
      ]
    },
    {
      "cell_type": "code",
      "source": [
        "angles = np.array([0, np.pi/2, np.pi, 3*np.pi/2, 2*np.pi])\n",
        "values_log = np.array([1, np.e, np.e**2, np.e**3])\n",
        "values_log2 = np.array([1, 2, 4, 8, 16])\n",
        "values_exp = np.array([0, 1, 2, 3, 4])\n",
        "\n",
        "sine_values = np.sin(angles)\n",
        "print(\"Sine values:\",sine_values)\n",
        "\n",
        "log_values = np.log(values_log)\n",
        "print(\"Natural logarithm values:\", log_values)\n",
        "\n",
        "log2_values = np.log2(values_log2)\n",
        "print(\"Base-2 logarithm values:\", log2_values)\n",
        "\n",
        "exp_values = np.exp(values_exp)\n",
        "print(\"Exponential values:\", exp_values)"
      ],
      "metadata": {
        "id": "VALT-wgktkAC",
        "outputId": "1c1e48af-9419-45f8-a714-268d02a8a777",
        "colab": {
          "base_uri": "https://localhost:8080/"
        }
      },
      "execution_count": 11,
      "outputs": [
        {
          "output_type": "stream",
          "name": "stdout",
          "text": [
            "Sine values: [ 0.0000000e+00  1.0000000e+00  1.2246468e-16 -1.0000000e+00\n",
            " -2.4492936e-16]\n",
            "Natural logarithm values: [0. 1. 2. 3.]\n",
            "Base-2 logarithm values: [0. 1. 2. 3. 4.]\n",
            "Exponential values: [ 1.          2.71828183  7.3890561  20.08553692 54.59815003]\n"
          ]
        }
      ]
    },
    {
      "cell_type": "code",
      "source": [
        "import pandas as pd\n",
        "series = pd.Series([1, 2, 3, 4, 5])\n",
        "print(\"Pandas Series:\", series)\n"
      ],
      "metadata": {
        "id": "BxbpUc_YtoWJ",
        "outputId": "bdbca105-900a-430c-84e9-d9d22c5bee07",
        "colab": {
          "base_uri": "https://localhost:8080/"
        }
      },
      "execution_count": 12,
      "outputs": [
        {
          "output_type": "stream",
          "name": "stdout",
          "text": [
            "Pandas Series: 0    1\n",
            "1    2\n",
            "2    3\n",
            "3    4\n",
            "4    5\n",
            "dtype: int64\n"
          ]
        }
      ]
    },
    {
      "cell_type": "code",
      "source": [
        "df = pd.DataFrame({'Column1': [1, 2, 3, 4, 5],'Column2': [5, 4, 3, 2, 1]})\n",
        "print(\"Pandas DataFrame:\\n\", df)"
      ],
      "metadata": {
        "id": "JYAxQJATtuHz",
        "outputId": "227a678e-427b-4988-d4a8-c135f4cf00d3",
        "colab": {
          "base_uri": "https://localhost:8080/"
        }
      },
      "execution_count": 13,
      "outputs": [
        {
          "output_type": "stream",
          "name": "stdout",
          "text": [
            "Pandas DataFrame:\n",
            "    Column1  Column2\n",
            "0        1        5\n",
            "1        2        4\n",
            "2        3        3\n",
            "3        4        2\n",
            "4        5        1\n"
          ]
        }
      ]
    },
    {
      "cell_type": "code",
      "source": [
        "data_series = [10, 20, 30, 40]\n",
        "index_series = ['a', 'b', 'c', 'd']\n",
        "series = pd.Series(data_series, index=index_series)\n",
        "print(\"Pandas Series:\\n\", series)"
      ],
      "metadata": {
        "id": "2NiAkVZBt3Kl",
        "outputId": "e5cbe507-bf92-4341-d4d1-e8b42772784f",
        "colab": {
          "base_uri": "https://localhost:8080/"
        }
      },
      "execution_count": 14,
      "outputs": [
        {
          "output_type": "stream",
          "name": "stdout",
          "text": [
            "Pandas Series:\n",
            " a    10\n",
            "b    20\n",
            "c    30\n",
            "d    40\n",
            "dtype: int64\n"
          ]
        }
      ]
    },
    {
      "cell_type": "code",
      "source": [
        "data_df = {'Name': ['Alice', 'Bob', 'Charlie'],'Age': [25, 30, 35],'City': ['New York', 'Los Angeles', 'Chicago']}\n",
        "df = pd.DataFrame(data_df)\n",
        "print(\"Pandas DataFrame:\\n\", df)"
      ],
      "metadata": {
        "id": "O0k7E3FYt8Cm",
        "outputId": "e98ec9af-e033-4468-bc35-ec7e7e13efd0",
        "colab": {
          "base_uri": "https://localhost:8080/"
        }
      },
      "execution_count": 15,
      "outputs": [
        {
          "output_type": "stream",
          "name": "stdout",
          "text": [
            "Pandas DataFrame:\n",
            "       Name  Age         City\n",
            "0    Alice   25     New York\n",
            "1      Bob   30  Los Angeles\n",
            "2  Charlie   35      Chicago\n"
          ]
        }
      ]
    },
    {
      "cell_type": "markdown",
      "source": [
        "Part 2 : Visualization of Data using matplotlib, pyplots Packages"
      ],
      "metadata": {
        "id": "iMfPpfWIuBdJ"
      }
    },
    {
      "cell_type": "code",
      "source": [
        "import pandas as pd\n",
        "data = {\n",
        "    'People': ['Kiran', 'Arun', 'Vijay', 'Varun'],\n",
        "    'Age': [25, 30, 35, 40],\n",
        "    'Height': [145, 151, 165, 173],\n",
        "    'Weight': [45, 55, 65, 75]\n",
        "}\n",
        "df = pd.DataFrame(data)\n",
        "print(df)"
      ],
      "metadata": {
        "id": "QkyXUOoDuQKO",
        "outputId": "488e6a38-9ec5-4ff0-aa6e-c8fe53bb2af1",
        "colab": {
          "base_uri": "https://localhost:8080/"
        }
      },
      "execution_count": 20,
      "outputs": [
        {
          "output_type": "stream",
          "name": "stdout",
          "text": [
            "  People  Age  Height  Weight\n",
            "0  Kiran   25     145      45\n",
            "1   Arun   30     151      55\n",
            "2  Vijay   35     165      65\n",
            "3  Varun   40     173      75\n"
          ]
        }
      ]
    },
    {
      "cell_type": "code",
      "source": [
        "import matplotlib.pyplot as plt\n",
        "plt.figure(figsize=(10, 6))\n",
        "plt.scatter(df['Age'], df['Height'], color='blue', s=100, alpha=0.7, edgecolors='w')\n",
        "plt.title('Scatter Plot of Age vs Height')\n",
        "plt.xlabel('Age')\n",
        "plt.ylabel('Height')\n",
        "plt.grid(True)\n",
        "plt.show()\n"
      ],
      "metadata": {
        "id": "TOgcIFtiv9_B",
        "outputId": "8b523089-429b-4a63-adb0-909697a107da",
        "colab": {
          "base_uri": "https://localhost:8080/",
          "height": 564
        }
      },
      "execution_count": 21,
      "outputs": [
        {
          "output_type": "display_data",
          "data": {
            "text/plain": [
              "<Figure size 1000x600 with 1 Axes>"
            ],
            "image/png": "[encoded data removed]"
          },
          "metadata": {}
        }
      ]
    },
    {
      "cell_type": "code",
      "source": [
        "plt.figure(figsize=(10, 6))\n",
        "plt.bar(df['People'], df['Weight'], color='green', alpha=0.7)\n",
        "plt.title('Bar Chart of Weight by Person')\n",
        "plt.xlabel('People')\n",
        "plt.ylabel('Weight')\n",
        "plt.show()\n"
      ],
      "metadata": {
        "id": "2nDVoLAUwiWk",
        "outputId": "465fa88c-f864-4996-a878-e211af0684a4",
        "colab": {
          "base_uri": "https://localhost:8080/",
          "height": 564
        }
      },
      "execution_count": 22,
      "outputs": [
        {
          "output_type": "display_data",
          "data": {
            "text/plain": [
              "<Figure size 1000x600 with 1 Axes>"
            ],
            "image/png": "[encoded data removed]"
          },
          "metadata": {}
        }
      ]
    },
    {
      "cell_type": "code",
      "source": [
        "plt.figure(figsize=(10, 6))\n",
        "plt.hist(df['Age'], bins=4, color='purple', alpha=0.7, edgecolor='black')\n",
        "plt.title('Histogram of Ages')\n",
        "plt.xlabel('Age')\n",
        "plt.ylabel('Frequency')\n",
        "plt.show()\n"
      ],
      "metadata": {
        "id": "yedPBnpxwno8",
        "outputId": "ab991e58-f87c-44f9-9c7a-fb528e7850d5",
        "colab": {
          "base_uri": "https://localhost:8080/",
          "height": 564
        }
      },
      "execution_count": 23,
      "outputs": [
        {
          "output_type": "display_data",
          "data": {
            "text/plain": [
              "<Figure size 1000x600 with 1 Axes>"
            ],
            "image/png": "[encoded data removed]"
          },
          "metadata": {}
        }
      ]
    }
  ]
}